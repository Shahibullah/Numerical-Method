{
  "nbformat": 4,
  "nbformat_minor": 0,
  "metadata": {
    "colab": {
      "provenance": []
    },
    "kernelspec": {
      "name": "python3",
      "display_name": "Python 3"
    },
    "language_info": {
      "name": "python"
    }
  },
  "cells": [
    {
      "cell_type": "markdown",
      "source": [
        "# **Vandermonde matrix.**"
      ],
      "metadata": {
        "id": "LToyTWJk8Nyi"
      }
    },
    {
      "cell_type": "markdown",
      "source": [],
      "metadata": {
        "id": "UQ1iiCvl8Mm4"
      }
    },
    {
      "cell_type": "code",
      "source": [
        "import numpy as np\n",
        "import matplotlib.pyplot as plt\n",
        "\n",
        "# Given data points\n",
        "X = np.array([1, 2, 3, 5], dtype=float)\n",
        "Y = np.array([2, 8, 18, 50], dtype=float)\n",
        "n = len(X)\n",
        "\n",
        "# Construct Vandermonde matrix\n",
        "V = np.vander(X, increasing=True)\n",
        "\n",
        "# Solve for coefficients a0, a1, ..., an-1\n",
        "coeffs = np.linalg.solve(V, Y)\n",
        "print(\"Coefficients:\", coeffs)\n",
        "\n",
        "# Polynomial evaluation function\n",
        "def poly_eval(x, coeffs):\n",
        "    return sum(c * x**i for i, c in enumerate(coeffs))\n",
        "\n",
        "# Test evaluation at x=1\n",
        "px = 1\n",
        "py = poly_eval(px, coeffs)\n",
        "print(f\"P({px}) = {py}\")\n",
        "\n",
        "# Plot\n",
        "x_vals = np.linspace(1, 5, 200)\n",
        "y_vals = [poly_eval(x, coeffs) for x in x_vals]\n",
        "\n",
        "plt.plot(x_vals, y_vals, label=\"Interpolating Polynomial\")\n",
        "plt.scatter(X, Y, color=\"red\", zorder=5, label=\"Data Points\")\n",
        "plt.legend()\n",
        "plt.grid(True)\n",
        "plt.show()\n"
      ],
      "metadata": {
        "colab": {
          "base_uri": "https://localhost:8080/",
          "height": 465
        },
        "id": "VLguxrRM8QVA",
        "outputId": "a86cdf50-c175-41db-a09b-a6d6f3f64dc2"
      },
      "execution_count": 11,
      "outputs": [
        {
          "output_type": "stream",
          "name": "stdout",
          "text": [
            "Coefficients: [0. 0. 2. 0.]\n",
            "P(1) = 2.0\n"
          ]
        },
        {
          "output_type": "display_data",
          "data": {
            "text/plain": [
              "<Figure size 640x480 with 1 Axes>"
            ],
            "image/png": "[encoded data removed]"
          },
          "metadata": {}
        }
      ]
    },
    {
      "cell_type": "markdown",
      "source": [
        "# **Lagrange polynomial**"
      ],
      "metadata": {
        "id": "sETg0mJi8bWI"
      }
    },
    {
      "cell_type": "code",
      "source": [
        "import sympy as sp\n",
        "\n",
        "# Define variables\n",
        "x = sp.symbols('x')\n",
        "X = [1, 2, 3, 5]\n",
        "Y = [2, 8, 18, 50]\n",
        "n = len(X)\n",
        "\n",
        "# Build Lagrange polynomial\n",
        "P = 0\n",
        "for i in range(n):\n",
        "    L = 1\n",
        "    for j in range(n):\n",
        "        if i != j:\n",
        "            L *= (x - X[j]) / (X[i] - X[j])\n",
        "    P += Y[i] * L\n",
        "\n",
        "# Simplify\n",
        "P_simplified = sp.expand(P)\n",
        "print(\"Lagrange Polynomial:\", P_simplified)\n"
      ],
      "metadata": {
        "colab": {
          "base_uri": "https://localhost:8080/"
        },
        "id": "tDnPeIWy8dqG",
        "outputId": "d6c24640-0c74-4fc2-c234-6ee94e296a49"
      },
      "execution_count": 12,
      "outputs": [
        {
          "output_type": "stream",
          "name": "stdout",
          "text": [
            "Lagrange Polynomial: 2*x**2\n"
          ]
        }
      ]
    },
    {
      "cell_type": "markdown",
      "source": [
        "# **Hermite interpolation Method**"
      ],
      "metadata": {
        "id": "i2tz2xyL8zYs"
      }
    },
    {
      "cell_type": "code",
      "source": [
        "import sympy as sp\n",
        "\n",
        "# Symbol\n",
        "x = sp.symbols('x')\n",
        "\n",
        "# Data points (x, f(x), f'(x))\n",
        "points = [\n",
        "    (0, 1, 0),         # f(0)=1, f'(0)=0\n",
        "    (1, sp.E, sp.E)    # f(1)=e, f'(1)=e\n",
        "]\n",
        "\n",
        "# Hermite basis construction\n",
        "H = 0\n",
        "for (xi, yi, ypi) in points:\n",
        "    # Lagrange basis for value\n",
        "    Li = 1\n",
        "    for (xj, _, _) in points:\n",
        "        if xj != xi:\n",
        "            Li *= (x - xj) / (xi - xj)\n",
        "\n",
        "    # Derivative of Lagrange basis\n",
        "    dLi = sp.diff(Li, x)\n",
        "\n",
        "    # Hermite polynomial contribution\n",
        "    Hi = (1 - 2*(x - xi)*dLi.subs(x, xi)) * (Li**2) * yi \\\n",
        "         + (x - xi) * (Li**2) * ypi\n",
        "\n",
        "    H += Hi\n",
        "\n",
        "# Simplify polynomial\n",
        "H_poly = sp.expand(H)\n",
        "print(\"Hermite Interpolating Polynomial:\", H_poly)\n"
      ],
      "metadata": {
        "colab": {
          "base_uri": "https://localhost:8080/"
        },
        "id": "4iJDIV1z81nN",
        "outputId": "2157b987-c474-4285-aedf-8f75f82bdd0d"
      },
      "execution_count": 13,
      "outputs": [
        {
          "output_type": "stream",
          "name": "stdout",
          "text": [
            "Hermite Interpolating Polynomial: -E*x**3 + 2*x**3 - 3*x**2 + 2*E*x**2 + 1\n"
          ]
        }
      ]
    },
    {
      "cell_type": "markdown",
      "source": [
        "# **Richardson Extrapolation**"
      ],
      "metadata": {
        "id": "PpKBdTYZ9HYj"
      }
    },
    {
      "cell_type": "code",
      "source": [
        "import numpy as np\n",
        "\n",
        "def f(x): return np.sin(x)\n",
        "\n",
        "h = 0.1\n",
        "D1 = (f(1+h) - f(1-h)) / (2*h)      # O(h^2) approx\n",
        "D2 = (f(1+h/2) - f(1-h/2)) / (h)    # finer step\n",
        "D = D2 + (D2 - D1) / (2**2 - 1)     # Richardson Extrapolation\n",
        "print(\"Derivative at x=1:\", D)\n"
      ],
      "metadata": {
        "colab": {
          "base_uri": "https://localhost:8080/"
        },
        "id": "HIJpbVQJ869G",
        "outputId": "ea45ba64-29da-4d67-8a48-f1afee2aeb20"
      },
      "execution_count": 14,
      "outputs": [
        {
          "output_type": "stream",
          "name": "stdout",
          "text": [
            "Derivative at x=1: 0.5403021933386563\n"
          ]
        }
      ]
    },
    {
      "cell_type": "markdown",
      "source": [
        "# **Least Squares Method**"
      ],
      "metadata": {
        "id": "tUNsZO8L9MzN"
      }
    },
    {
      "cell_type": "code",
      "source": [
        "import numpy as np\n",
        "\n",
        "x = np.array([0,1,2,3,4,5])\n",
        "y = np.array([2.1, 2.9, 4.2, 5.1, 6.8, 8.2])\n",
        "\n",
        "A = np.vstack([x, np.ones(len(x))]).T\n",
        "a, b = np.linalg.lstsq(A, y, rcond=None)[0]\n",
        "print(f\"y ≈ {a:.2f}x + {b:.2f}\")\n"
      ],
      "metadata": {
        "colab": {
          "base_uri": "https://localhost:8080/"
        },
        "id": "f99LS3_39cnr",
        "outputId": "bec34f10-a0a4-4e17-dabb-f8493a66c8d9"
      },
      "execution_count": 15,
      "outputs": [
        {
          "output_type": "stream",
          "name": "stdout",
          "text": [
            "y ≈ 1.23x + 1.80\n"
          ]
        }
      ]
    },
    {
      "cell_type": "markdown",
      "source": [
        "# **Gaussian Elimination**"
      ],
      "metadata": {
        "id": "R-QdaJfC9hx8"
      }
    },
    {
      "cell_type": "code",
      "source": [
        "import numpy as np\n",
        "\n",
        "A = np.array([[2,1,-1],[ -3,-1,2],[ -2,1,2]], float)\n",
        "b = np.array([8,-11,-3], float)\n",
        "\n",
        "x = np.linalg.solve(A,b)\n",
        "print(\"Solution:\", x)\n"
      ],
      "metadata": {
        "colab": {
          "base_uri": "https://localhost:8080/"
        },
        "id": "PtkMnHfy9hXb",
        "outputId": "62ea0dc3-9c23-459f-cf87-3cf2151c9e80"
      },
      "execution_count": 16,
      "outputs": [
        {
          "output_type": "stream",
          "name": "stdout",
          "text": [
            "Solution: [ 2.  3. -1.]\n"
          ]
        }
      ]
    },
    {
      "cell_type": "markdown",
      "source": [
        "# **LU Decomposition**"
      ],
      "metadata": {
        "id": "0OAoL16d9pG-"
      }
    },
    {
      "cell_type": "code",
      "source": [
        "import numpy as np\n",
        "from scipy.linalg import lu\n",
        "\n",
        "A = np.array([[2,1,1],[4,-6,0],[-2,7,2]])\n",
        "P, L, U = lu(A)\n",
        "print(\"L=\\n\",L,\"\\nU=\\n\",U)\n"
      ],
      "metadata": {
        "colab": {
          "base_uri": "https://localhost:8080/"
        },
        "id": "vrKo9wge9wjm",
        "outputId": "cd533650-fc80-4517-a236-ff454f0ba555"
      },
      "execution_count": 17,
      "outputs": [
        {
          "output_type": "stream",
          "name": "stdout",
          "text": [
            "L=\n",
            " [[ 1.   0.   0. ]\n",
            " [ 0.5  1.   0. ]\n",
            " [-0.5  1.   1. ]] \n",
            "U=\n",
            " [[ 4. -6.  0.]\n",
            " [ 0.  4.  1.]\n",
            " [ 0.  0.  1.]]\n"
          ]
        }
      ]
    },
    {
      "cell_type": "markdown",
      "source": [
        "# ***Newton-Raphson Method***"
      ],
      "metadata": {
        "id": "LTruy_OD9-yQ"
      }
    },
    {
      "cell_type": "code",
      "source": [
        "def f(x): return x**3 - x - 2\n",
        "def df(x): return 3*x**2 - 1\n",
        "\n",
        "x = 1.5\n",
        "for _ in range(5):\n",
        "    x = x - f(x)/df(x)\n",
        "print(\"Root:\", x)\n"
      ],
      "metadata": {
        "colab": {
          "base_uri": "https://localhost:8080/"
        },
        "id": "xFIw5jL2-EhF",
        "outputId": "e4eeadf1-7897-47d7-c0f1-58e21d8411a2"
      },
      "execution_count": 18,
      "outputs": [
        {
          "output_type": "stream",
          "name": "stdout",
          "text": [
            "Root: 1.5213797068045676\n"
          ]
        }
      ]
    },
    {
      "cell_type": "markdown",
      "source": [
        "# **Numerical Integration (Trapezoidal Rule)**"
      ],
      "metadata": {
        "id": "PkO9yC7Z-H67"
      }
    },
    {
      "cell_type": "code",
      "source": [
        "import numpy as np\n",
        "\n",
        "f = np.exp\n",
        "a, b, n = 0, 1, 100\n",
        "x = np.linspace(a,b,n+1)\n",
        "y = f(x)\n",
        "I = (b-a)/n * (0.5*y[0] + sum(y[1:-1]) + 0.5*y[-1])\n",
        "print(\"Integral ≈\", I)\n"
      ],
      "metadata": {
        "colab": {
          "base_uri": "https://localhost:8080/"
        },
        "id": "oNE0FhRw-Hes",
        "outputId": "ca71e9e7-2a38-4b13-cf5f-2b8be9974d01"
      },
      "execution_count": 19,
      "outputs": [
        {
          "output_type": "stream",
          "name": "stdout",
          "text": [
            "Integral ≈ 1.7182961474504175\n"
          ]
        }
      ]
    },
    {
      "cell_type": "markdown",
      "source": [
        "# **QR Decomposition**"
      ],
      "metadata": {
        "id": "tm_A6iiH-kbp"
      }
    },
    {
      "cell_type": "code",
      "source": [
        "import numpy as np\n",
        "\n",
        "A = np.array([[1,1],[1,2],[1,3]], float)\n",
        "b = np.array([1,2,2], float)\n",
        "\n",
        "Q,R = np.linalg.qr(A)\n",
        "x = np.linalg.solve(R, Q.T @ b)\n",
        "print(\"Solution:\", x)\n"
      ],
      "metadata": {
        "colab": {
          "base_uri": "https://localhost:8080/"
        },
        "id": "WQzrv4l1-ouF",
        "outputId": "2fa74bde-607c-4058-cccb-87854b74fcd3"
      },
      "execution_count": 20,
      "outputs": [
        {
          "output_type": "stream",
          "name": "stdout",
          "text": [
            "Solution: [0.66666667 0.5       ]\n"
          ]
        }
      ]
    },
    {
      "cell_type": "markdown",
      "source": [
        "# **Secant Method**"
      ],
      "metadata": {
        "id": "-6rI-C65-syg"
      }
    },
    {
      "cell_type": "code",
      "source": [
        "def f(x): return x**3 - x - 2\n",
        "\n",
        "x0, x1 = 1, 2\n",
        "for _ in range(5):\n",
        "    x2 = x1 - f(x1)*(x1-x0)/(f(x1)-f(x0))\n",
        "    x0, x1 = x1, x2\n",
        "print(\"Root:\", x1)\n"
      ],
      "metadata": {
        "colab": {
          "base_uri": "https://localhost:8080/"
        },
        "id": "IwaOEr0d-sDL",
        "outputId": "429b90ea-ca8d-415c-a41f-c85ca818c1c8"
      },
      "execution_count": 21,
      "outputs": [
        {
          "output_type": "stream",
          "name": "stdout",
          "text": [
            "Root: 1.5213763166697438\n"
          ]
        }
      ]
    },
    {
      "cell_type": "markdown",
      "source": [
        "# **Bisection Method**"
      ],
      "metadata": {
        "id": "qXethyVx-2nP"
      }
    },
    {
      "cell_type": "code",
      "source": [
        "def f(x): return x**3 - x - 2\n",
        "\n",
        "a, b = 1, 2\n",
        "for _ in range(20):\n",
        "    c = (a+b)/2\n",
        "    if f(c)*f(a) < 0:\n",
        "        b = c\n",
        "    else:\n",
        "        a = c\n",
        "print(\"Root:\", c)\n"
      ],
      "metadata": {
        "colab": {
          "base_uri": "https://localhost:8080/"
        },
        "id": "0HdbRsHS-56z",
        "outputId": "6300af16-212d-4cb7-ff58-d5208e575c93"
      },
      "execution_count": 22,
      "outputs": [
        {
          "output_type": "stream",
          "name": "stdout",
          "text": [
            "Root: 1.5213804244995117\n"
          ]
        }
      ]
    }
  ]
}