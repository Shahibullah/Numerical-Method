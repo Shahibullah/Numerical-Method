{
  "nbformat": 4,
  "nbformat_minor": 0,
  "metadata": {
    "colab": {
      "provenance": []
    },
    "kernelspec": {
      "name": "python3",
      "display_name": "Python 3"
    },
    "language_info": {
      "name": "python"
    }
  },
  "cells": [
    {
      "cell_type": "markdown",
      "source": [
        "# **Polynomial Representation**"
      ],
      "metadata": {
        "id": "6qIG4eUJXIlT"
      }
    },
    {
      "cell_type": "code",
      "execution_count": 33,
      "metadata": {
        "colab": {
          "base_uri": "https://localhost:8080/",
          "height": 482
        },
        "id": "grbUDgORUsMQ",
        "outputId": "219c51c2-0834-42c3-98de-824f47729454"
      },
      "outputs": [
        {
          "output_type": "stream",
          "name": "stdout",
          "text": [
            "Polynomial :  2.0 + 4.0·x - 6.0·x² + 7.0·x³ + 3.0·x⁴\n",
            "\n",
            "=================Graph=================\n"
          ]
        },
        {
          "output_type": "display_data",
          "data": {
            "text/plain": [
              "<Figure size 640x480 with 1 Axes>"
            ],
            "image/png": "[encoded data removed]"
          },
          "metadata": {}
        }
      ],
      "source": [
        "import numpy as np\n",
        "import matplotlib.pyplot as plt\n",
        "from numpy.polynomial import Polynomial\n",
        "#poly = 2.0 + 4.0·x - 6.0·x² + 7.0·x³ + 3.0·x⁴\n",
        "poly = Polynomial([2,4,-6,7,3])\n",
        "print(\"Polynomial : \",poly)\n",
        "print()\n",
        "print(\"=================Graph=================\")\n",
        "x = np.linspace(-10,10,100)\n",
        "y = poly(x)\n",
        "plt.plot(x,y)\n",
        "plt.show()"
      ]
    },
    {
      "cell_type": "markdown",
      "source": [
        "#**Derivative of Polynomial**"
      ],
      "metadata": {
        "id": "9ROJSc9TXdT4"
      }
    },
    {
      "cell_type": "code",
      "source": [
        "import numpy as np\n",
        "import matplotlib.pyplot as plt\n",
        "from numpy.polynomial import Polynomial\n",
        "#poly = 2.0 + 4.0·x - 6.0·x² + 7.0·x³ + 3.0·x⁴\n",
        "poly = Polynomial([2,4,-6,7,3])\n",
        "derivative_poly = poly.deriv()\n",
        "print(\"Derivative of Polynomial : \",derivative_poly)"
      ],
      "metadata": {
        "colab": {
          "base_uri": "https://localhost:8080/"
        },
        "id": "OV_-wA9pXgZ3",
        "outputId": "0f31fb73-d424-4e5c-c0e7-d4db0f1173ec"
      },
      "execution_count": 34,
      "outputs": [
        {
          "output_type": "stream",
          "name": "stdout",
          "text": [
            "Derivative of Polynomial :  4.0 - 12.0·x + 21.0·x² + 12.0·x³\n"
          ]
        }
      ]
    },
    {
      "cell_type": "markdown",
      "source": [
        "# **Matrix Inverse**"
      ],
      "metadata": {
        "id": "qhKA0GltYV3f"
      }
    },
    {
      "cell_type": "code",
      "source": [
        "import numpy as np\n",
        "\n",
        "A = np.array([[12, 21, 3],\n",
        "              [4, 58, 6],\n",
        "              [71, 8, 9]])\n",
        "\n",
        "print(\"Matrix A:\\n\", A)\n",
        "print()\n",
        "print()\n",
        "print(\"Inverse of Matrix A\")\n",
        "print()\n",
        "inv_matrix = np.linalg.inv(A)\n",
        "print(inv_matrix)\n"
      ],
      "metadata": {
        "colab": {
          "base_uri": "https://localhost:8080/"
        },
        "id": "0XzR3-mmYd1e",
        "outputId": "26a4b17b-30c9-469c-af75-12426aadd721"
      },
      "execution_count": 35,
      "outputs": [
        {
          "output_type": "stream",
          "name": "stdout",
          "text": [
            "Matrix A:\n",
            " [[12 21  3]\n",
            " [ 4 58  6]\n",
            " [71  8  9]]\n",
            "\n",
            "\n",
            "Inverse of Matrix A\n",
            "\n",
            "[[ 0.29259259 -0.10185185 -0.02962963]\n",
            " [ 0.24074074 -0.06481481 -0.03703704]\n",
            " [-2.52222222  0.86111111  0.37777778]]\n"
          ]
        }
      ]
    },
    {
      "cell_type": "markdown",
      "source": [
        "# **Matrix Dot Multiplication**"
      ],
      "metadata": {
        "id": "sDDA9MvdY7Bx"
      }
    },
    {
      "cell_type": "code",
      "source": [
        "A = np.array([[12, 21, 3],\n",
        "              [4, 58, 6],\n",
        "              [71, 8, 9]])\n",
        "B = np.array([[1, 2, 3],\n",
        "              [4, 5, 6],\n",
        "              [7, 8, 9]])\n",
        "print(f\"A: {A}\")\n",
        "print(\"     x\")\n",
        "print(f\"B: {B}\")\n",
        "print(\"Matrix Dot Multiplication\")\n",
        "dot_matrix = A.dot(B)\n",
        "print(dot_matrix)\n"
      ],
      "metadata": {
        "colab": {
          "base_uri": "https://localhost:8080/"
        },
        "id": "FRGUquyFZCqU",
        "outputId": "16d5b52c-6f69-4459-c26e-42d3a104f60f"
      },
      "execution_count": 36,
      "outputs": [
        {
          "output_type": "stream",
          "name": "stdout",
          "text": [
            "A: [[12 21  3]\n",
            " [ 4 58  6]\n",
            " [71  8  9]]\n",
            "     x\n",
            "B: [[1 2 3]\n",
            " [4 5 6]\n",
            " [7 8 9]]\n",
            "Matrix Dot Multiplication\n",
            "[[117 153 189]\n",
            " [278 346 414]\n",
            " [166 254 342]]\n"
          ]
        }
      ]
    },
    {
      "cell_type": "markdown",
      "source": [
        "# **Matrix Transepose**"
      ],
      "metadata": {
        "id": "V8uwbY2FalRf"
      }
    },
    {
      "cell_type": "code",
      "source": [
        "A = np.array([[1, 2, 3],\n",
        "              [4, 5, 6],\n",
        "              [7, 8, 9]])\n",
        "print(f\"A: {A}\")\n",
        "print()\n",
        "print(\"Matrix Transepose\")\n",
        "transepose_matrix = A.T\n",
        "print(transepose_matrix)\n",
        "\n"
      ],
      "metadata": {
        "colab": {
          "base_uri": "https://localhost:8080/"
        },
        "id": "X2L_tCoVarkT",
        "outputId": "0a0c8f63-2690-460f-efc8-3f5c94987b3d"
      },
      "execution_count": 37,
      "outputs": [
        {
          "output_type": "stream",
          "name": "stdout",
          "text": [
            "A: [[1 2 3]\n",
            " [4 5 6]\n",
            " [7 8 9]]\n",
            "\n",
            "Matrix Transepose\n",
            "[[1 4 7]\n",
            " [2 5 8]\n",
            " [3 6 9]]\n"
          ]
        }
      ]
    },
    {
      "cell_type": "markdown",
      "source": [
        "# **Determinate of Matrix**"
      ],
      "metadata": {
        "id": "evRFqXsta2DY"
      }
    },
    {
      "cell_type": "code",
      "source": [
        "A = np.array([[1, 2, 3],\n",
        "              [4, 5, 6],\n",
        "              [7, 8, 9]])\n",
        "print(f\"A: {A}\")\n",
        "print()\n",
        "det_of_Matrix = np.linalg.det(A)\n",
        "print(f\"Determinate of Matrix: {det_of_Matrix}\")\n",
        "#"
      ],
      "metadata": {
        "colab": {
          "base_uri": "https://localhost:8080/"
        },
        "id": "QYVRsYhnbB4B",
        "outputId": "19cdf5dd-9f84-414a-c165-fe6d05f39d74"
      },
      "execution_count": 38,
      "outputs": [
        {
          "output_type": "stream",
          "name": "stdout",
          "text": [
            "A: [[1 2 3]\n",
            " [4 5 6]\n",
            " [7 8 9]]\n",
            "\n",
            "Determinate of Matrix: 0.0\n"
          ]
        }
      ]
    }
  ]
}